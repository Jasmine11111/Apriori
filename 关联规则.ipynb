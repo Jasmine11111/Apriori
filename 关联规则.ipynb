{
 "cells": [
  {
   "cell_type": "code",
   "execution_count": 1,
   "metadata": {},
   "outputs": [],
   "source": [
    "def loadDataSet():\n",
    "    return [[1,3,4],[2,3,5],[1,2,3,5],[2,5]]"
   ]
  },
  {
   "cell_type": "code",
   "execution_count": 2,
   "metadata": {},
   "outputs": [],
   "source": [
    "def createC1(dataSet):\n",
    "    C1 = []#存储所有不重复的项值\n",
    "    for transaction in dataSet:#数据集中的交易记录\n",
    "        for item in transaction:\n",
    "            if not [item] in C1:\n",
    "                C1.append([item])\n",
    "    C1.sort()\n",
    "    # 映射为frozenset唯一性的，可使用其构造字典\n",
    "    return list(map(frozenset, C1)) #map(function, iterable, ...)返回一个迭代器\n",
    "''' \n",
    "map(square, [1,2,3,4,5])   # 计算列表各个元素的平方\n",
    "[1, 4, 9, 16, 25]\n",
    ">>> map(lambda x: x ** 2, [1, 2, 3, 4, 5])  # 使用 lambda 匿名函数\n",
    "[1, 4, 9, 16, 25]\n",
    " \n",
    "# 提供了两个列表，对相同位置的列表数据进行相加\n",
    ">>> map(lambda x, y: x + y, [1, 3, 5, 7, 9], [2, 4, 6, 8, 10])\n",
    "[3, 7, 11, 15, 19]\n",
    "'''\n",
    "'''\n",
    "set(可变集合)与frozenset(不可变集合)的区别：\n",
    "set无序排序且不重复，是可变的，有add（），remove（）等方法。\n",
    "既然是可变的，所以它不存在哈希值。基本功能包括关系测试和消除重复元素.\n",
    "集合对象还支持union(联合), intersection(交集), difference(差集)和sysmmetric difference(对称差集)等数学运算. \n",
    "sets 支持 x in set, len(set),和 for x in set。作为一个无序的集合，sets不记录元素位置或者插入点。\n",
    "因此，sets不支持 indexing, 或其它类序列的操作。\n",
    "frozenset是冻结的集合，它是不可变的，存在哈希值，好处是它可以作为字典的key，也可以作为其它集合的元素。\n",
    "缺点是一旦创建便不能更改，没有add，remove方法。\n",
    "'''"
   ]
  },
  {
   "cell_type": "code",
   "execution_count": 3,
   "metadata": {},
   "outputs": [],
   "source": [
    "def scanD(D, Ck, minSupport):#数据集，候选项集列表，最小支持度\n",
    "    ssCnt = {}\n",
    "    for tid in D:#遍历数据集中的所有交易记录\n",
    "        for can in Ck:#遍历C1中的所有候选集\n",
    "            if can.issubset(tid):#测试是否 can 中的每一个元素都在 tid 中 \n",
    "                if not can in ssCnt:#确定给定的键是否存在于字典中，如果存在则返回true，否则返回false。\n",
    "                    ssCnt[can] = 1\n",
    "                else:\n",
    "                    ssCnt[can] += 1\n",
    "    numItems = float(len(D))\n",
    "    retList = []\n",
    "    supportData = {}\n",
    "    for key in ssCnt:\n",
    "        support = ssCnt[key] / numItems\n",
    "        if support >= minSupport:\n",
    "            retList.insert(0, key)#在列表的首部插入新的集合\n",
    "            supportData[key] = support  \n",
    "    return retList, supportData"
   ]
  },
  {
   "cell_type": "code",
   "execution_count": 4,
   "metadata": {},
   "outputs": [
    {
     "data": {
      "text/plain": [
       "[[1, 3, 4], [2, 3, 5], [1, 2, 3, 5], [2, 5]]"
      ]
     },
     "execution_count": 4,
     "metadata": {},
     "output_type": "execute_result"
    }
   ],
   "source": [
    "dataSet=loadDataSet()\n",
    "dataSet"
   ]
  },
  {
   "cell_type": "code",
   "execution_count": 5,
   "metadata": {},
   "outputs": [
    {
     "data": {
      "text/plain": [
       "[frozenset({1}),\n",
       " frozenset({2}),\n",
       " frozenset({3}),\n",
       " frozenset({4}),\n",
       " frozenset({5})]"
      ]
     },
     "execution_count": 5,
     "metadata": {},
     "output_type": "execute_result"
    }
   ],
   "source": [
    "C1=createC1(dataSet)\n",
    "C1"
   ]
  },
  {
   "cell_type": "code",
   "execution_count": 6,
   "metadata": {},
   "outputs": [
    {
     "data": {
      "text/plain": [
       "[{1, 3, 4}, {2, 3, 5}, {1, 2, 3, 5}, {2, 5}]"
      ]
     },
     "execution_count": 6,
     "metadata": {},
     "output_type": "execute_result"
    }
   ],
   "source": [
    "D=list(map(set,dataSet))\n",
    "D"
   ]
  },
  {
   "cell_type": "code",
   "execution_count": 7,
   "metadata": {},
   "outputs": [
    {
     "data": {
      "text/plain": [
       "([frozenset({5}), frozenset({2}), frozenset({3}), frozenset({1})],\n",
       " {frozenset({1}): 0.5,\n",
       "  frozenset({3}): 0.75,\n",
       "  frozenset({2}): 0.75,\n",
       "  frozenset({5}): 0.75})"
      ]
     },
     "execution_count": 7,
     "metadata": {},
     "output_type": "execute_result"
    }
   ],
   "source": [
    "L1=scanD(D,C1,0.5)\n",
    "L1"
   ]
  },
  {
   "cell_type": "code",
   "execution_count": 10,
   "metadata": {},
   "outputs": [],
   "source": [
    "ssCnt = {}\n",
    "for tid in D:#遍历数据集中的所有交易记录\n",
    "    for can in C1:#遍历C1中的所有候选集\n",
    "        if can.issubset(tid):#测试是否 can 中的每一个元素都在 tid 中 \n",
    "            if not can in ssCnt:#确定给定的键是否存在于字典中，如果存在则返回true，否则返回false。\n",
    "                ssCnt[can] = 1\n",
    "            else:\n",
    "                ssCnt[can] += 1"
   ]
  },
  {
   "cell_type": "code",
   "execution_count": 11,
   "metadata": {
    "scrolled": true
   },
   "outputs": [
    {
     "data": {
      "text/plain": [
       "{frozenset({1}): 2,\n",
       " frozenset({3}): 3,\n",
       " frozenset({4}): 1,\n",
       " frozenset({2}): 3,\n",
       " frozenset({5}): 3}"
      ]
     },
     "execution_count": 11,
     "metadata": {},
     "output_type": "execute_result"
    }
   ],
   "source": [
    "ssCnt"
   ]
  },
  {
   "cell_type": "code",
   "execution_count": null,
   "metadata": {},
   "outputs": [],
   "source": [
    "def aprioriGen(Lk, k):  # 创建候选K项集 ##LK为频繁K项集\n",
    "    retList = []\n",
    "    lenLk = len(Lk)\n",
    "    for i in range(lenLk):\n",
    "        for j in range(i + 1, lenLk):\n",
    "            L1 = list(Lk[i])[:k - 2]\n",
    "            L2 = list(Lk[j])[:k - 2]\n",
    "            L1.sort()\n",
    "            L2.sort()\n",
    "            if L1 == L2:  # 前k-1项相等，则可相乘，这样可防止重复项出现\n",
    "                #  进行剪枝（a1为k项集中的一个元素，b为它的所有k-1项子集）\n",
    "                a = Lk[i] | Lk[j]  # a为frozenset()集合\n",
    "                a1 = list(a)\n",
    "                b = []\n",
    "                # 遍历取出每一个元素，转换为set，依次从a1中剔除该元素，并加入到b中\n",
    "                for q in range(len(a1)):\n",
    "                    t = [a1[q]]\n",
    "                    tt = frozenset(set(a1) - set(t))\n",
    "                    b.append(tt)\n",
    "                t = 0\n",
    "                for w in b:\n",
    "                    # 当b（即所有k-1项子集）都是Lk（频繁的）的子集，则保留，否则删除。\n",
    "                    if w in Lk:\n",
    "                        t += 1\n",
    "                if t == len(b):\n",
    "                    retList.append(b[0] | b[1])\n",
    "    return retList\n",
    " "
   ]
  },
  {
   "cell_type": "code",
   "execution_count": null,
   "metadata": {},
   "outputs": [],
   "source": [
    "'''\n",
    "使用 aprioriGen() 来创建 Ck ，\n",
    "然后使用 scanD() 基于 Ck 来创建 Lk 。\n",
    "Ck 是一个候选项集列表，\n",
    "然后 scanD() 会遍历 Ck \n",
    "丢掉不满足最小支持度要求的项集。\n",
    "Lk 列表被添加到 L ，同时增加 k 的值\n",
    "重复上述过程。最后，当 Lk 为空时，程序返回L并退出。'''"
   ]
  },
  {
   "cell_type": "code",
   "execution_count": 12,
   "metadata": {},
   "outputs": [],
   "source": [
    "def aprioriGen(Lk, k): #频繁项集列表LK，项集元素个数K\n",
    "    retList = []#建立空列表\n",
    "    lenLk = len(Lk)#计算lk中的元素数目\n",
    "    for i in range(lenLk):#比较LK中的每一个元素与其他元素\n",
    "        for j in range(i+1, lenLk): \n",
    "            L1 = list(Lk[i])[:k-2];\n",
    "            L2 = list(Lk[j])[:k-2]\n",
    "            L1.sort(); \n",
    "            L2.sort()\n",
    "            if L1==L2: #取列表中的两个集合进行比较if first k-2 elements are equal\n",
    "                retList.append(Lk[i] | Lk[j]) #合并这两个集合\n",
    "    return retList"
   ]
  },
  {
   "cell_type": "code",
   "execution_count": 15,
   "metadata": {},
   "outputs": [],
   "source": [
    "def apriori(dataSet, minSupport = 0.5):\n",
    "    C1 = createC1(dataSet)\n",
    "    D = list(map(set, dataSet))\n",
    "    L1, supportData = scanD(D, C1, minSupport)#创建L1\n",
    "    L = [L1]#将L1放入列表L中\n",
    "    k = 2\n",
    "    while (len(L[k-2]) > 0):#创建包含更大项集的更大列表，直到下一个大的项集为空\n",
    "        Ck = aprioriGen(L[k-2], k)\n",
    "        Lk, supK = scanD(D, Ck, minSupport)#scan DB to get Lk\n",
    "        supportData.update(supK)\n",
    "        L.append(Lk)\n",
    "        k += 1\n",
    "    return L, supportData"
   ]
  },
  {
   "cell_type": "code",
   "execution_count": 16,
   "metadata": {},
   "outputs": [
    {
     "data": {
      "text/plain": [
       "[[frozenset({5}), frozenset({2}), frozenset({3}), frozenset({1})],\n",
       " [frozenset({2, 3}), frozenset({3, 5}), frozenset({2, 5}), frozenset({1, 3})],\n",
       " [frozenset({2, 3, 5})],\n",
       " []]"
      ]
     },
     "execution_count": 16,
     "metadata": {},
     "output_type": "execute_result"
    }
   ],
   "source": [
    "L,suppData=apriori(dataSet)\n",
    "L"
   ]
  },
  {
   "cell_type": "code",
   "execution_count": 18,
   "metadata": {},
   "outputs": [
    {
     "data": {
      "text/plain": [
       "[frozenset({2, 5}),\n",
       " frozenset({3, 5}),\n",
       " frozenset({1, 5}),\n",
       " frozenset({2, 3}),\n",
       " frozenset({1, 2}),\n",
       " frozenset({1, 3})]"
      ]
     },
     "execution_count": 18,
     "metadata": {},
     "output_type": "execute_result"
    }
   ],
   "source": [
    "aprioriGen(L[0],2)"
   ]
  },
  {
   "cell_type": "code",
   "execution_count": null,
   "metadata": {},
   "outputs": [],
   "source": []
  }
 ],
 "metadata": {
  "kernelspec": {
   "display_name": "Python 3",
   "language": "python",
   "name": "python3"
  },
  "language_info": {
   "codemirror_mode": {
    "name": "ipython",
    "version": 3
   },
   "file_extension": ".py",
   "mimetype": "text/x-python",
   "name": "python",
   "nbconvert_exporter": "python",
   "pygments_lexer": "ipython3",
   "version": "3.6.5"
  }
 },
 "nbformat": 4,
 "nbformat_minor": 2
}
